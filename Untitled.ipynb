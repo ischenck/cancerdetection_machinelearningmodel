{
 "cells": [
  {
   "cell_type": "code",
   "execution_count": 1,
   "metadata": {},
   "outputs": [],
   "source": [
    "import pandas as pd\n",
    "import numpy as np\n",
    "import seaborn as sns\n",
    "import matplotlib.pyplot as plt\n",
    "from pathlib import Path\n",
    "from scipy import stats\n",
    "from sklearn.model_selection import GridSearchCV, train_test_split, cross_val_score\n",
    "from sklearn.neighbors import KNeighborsClassifier\n",
    "from sklearn.preprocessing import StandardScaler\n",
    "from sklearn.feature_selection import SelectKBest, chi2\n",
    "from sklearn.decomposition import PCA\n",
    "from sklearn.neural_network import MLPClassifier\n",
    "from sklearn.metrics import classification_report, confusion_matrix"
   ]
  },
  {
   "cell_type": "code",
   "execution_count": 2,
   "metadata": {},
   "outputs": [],
   "source": [
    "# load a file that uses , as delimiter\n",
    "def load_file(path, names):\n",
    "    if not path.is_file():\n",
    "        raise FileNotFoundError(str(path))\n",
    "    data = pd.read_csv(path, sep=\",\", names=names, header=None)\n",
    "    return data\n",
    "\n",
    "# load data for hmm\n",
    "def load_df():\n",
    "    cols = [\"ID\", \"Clump Thickness\",\"Uniformity of Cell Size\", \"Uniformity of Cell Shape\", \"Marginal Adhesion\", \"Single Epithelial Cell Size\", \"Bare Nuclei\", \"Bland Chromatin\",\"Normal Nucleoli\", \"Mitoses\", \"Class\"]\n",
    "    file = Path.cwd() / \"breast-cancer-wisconsin.csv\"\n",
    "    return load_file(file, cols)\n",
    "\n",
    "# removes any rows that have empty data slots ie null\n",
    "def remove_empty_rows(data):\n",
    "    data.dropna(axis=0, how='any', thresh=None, subset=None, inplace=True)\n",
    "    return data\n",
    "\n",
    "# removes outliers based on zscore greater than 3\n",
    "def remove_outliers_Zscore(data):\n",
    "    z = np.abs(stats.zscore(data))\n",
    "    data_df_z_out =data[(z<3).all(axis=1)]\n",
    "    return data_df_z_out\n",
    "\n",
    "# removes outliers based on IQR\n",
    "def remove_outliers_IQR(data):\n",
    "    Q1 = data.quantile(.25)\n",
    "    Q3 = data.quantile(.75)\n",
    "    IQR = Q3-Q1\n",
    "    data_df_IQR_out = data[~((data < (Q1 - 1.5 * IQR)) |(data > (Q3 + 1.5 * IQR))).any(axis=1)]\n",
    "    return data_df_IQR_out\n",
    "    \n",
    "# graphs histogram\n",
    "def plotHistogram(data):\n",
    "    data.hist(bins=50, color='steelblue', edgecolor='black', linewidth=1.0,\n",
    "        xlabelsize=8, ylabelsize=8, grid=False)    \n",
    "    return plt.tight_layout(rect=(0, 0, 1.2, 1.2)) \n",
    "\n",
    "# makes a 2d graph comparing all pairs of features in dataframe\n",
    "def plot2dScatter(data):\n",
    "    return sns.pairplot(data,diag_kind=\"kde\")"
   ]
  },
  {
   "cell_type": "code",
   "execution_count": 3,
   "metadata": {},
   "outputs": [
    {
     "data": {
      "text/plain": [
       "Clump Thickness                  int64\n",
       "Uniformity of Cell Size          int64\n",
       "Uniformity of Cell Shape         int64\n",
       "Marginal Adhesion                int64\n",
       "Single Epithelial Cell Size      int64\n",
       "Bare Nuclei                    float64\n",
       "Bland Chromatin                  int64\n",
       "Normal Nucleoli                  int64\n",
       "Mitoses                          int64\n",
       "Class                            int64\n",
       "dtype: object"
      ]
     },
     "execution_count": 3,
     "metadata": {},
     "output_type": "execute_result"
    }
   ],
   "source": [
    "data = load_df()\n",
    "\n",
    "data = data.drop(columns=[\"ID\"])\n",
    "\n",
    "data.dtypes\n",
    "\n"
   ]
  },
  {
   "cell_type": "code",
   "execution_count": 4,
   "metadata": {},
   "outputs": [
    {
     "name": "stdout",
     "output_type": "stream",
     "text": [
      "Current datasize before cleaning 699\n",
      "Current data size after removing outliers 632\n"
     ]
    }
   ],
   "source": [
    "#uncomment to see histogram of data\n",
    "#hist = plotHistogram(data)\n",
    "print(\"Current datasize before cleaning\" , data.shape[0])\n",
    "data = remove_empty_rows(data)\n",
    "\n",
    "#uncomment to see data b4 cleaning in 2d graph\n",
    "#plot2d = plot2dScatter(data)\n",
    "\n",
    "\n",
    "\n",
    "#print(\"Removing outliers using z-score\")\n",
    "\n",
    "#data = remove_outliers_IQR(data)\n",
    "data = remove_outliers_Zscore(data)\n",
    "data = data.reset_index(drop=True)\n",
    "print(\"Current data size after removing outliers\", data.shape[0])\n",
    "\n",
    "#Uncomment this to look at 2d plot of cleaned data\n",
    "#plot2d = plot2dScatter(data)\n",
    "\n"
   ]
  },
  {
   "cell_type": "markdown",
   "metadata": {},
   "source": [
    "## C. Feature Analysis\n",
    "\n",
    "### i. Correlation Analysis: heat map"
   ]
  },
  {
   "cell_type": "code",
   "execution_count": 5,
   "metadata": {},
   "outputs": [
    {
     "data": {
      "image/png": "[encoded data removed]",
      "text/plain": [
       "<Figure size 432x288 with 2 Axes>"
      ]
     },
     "metadata": {
      "needs_background": "light"
     },
     "output_type": "display_data"
    }
   ],
   "source": [
    "data_corr = data.corr()\n",
    "hmap = sns.heatmap(data_corr)"
   ]
  },
  {
   "cell_type": "markdown",
   "metadata": {},
   "source": [
    "### ii. Univariate Selection"
   ]
  },
  {
   "cell_type": "code",
   "execution_count": 6,
   "metadata": {},
   "outputs": [
    {
     "name": "stdout",
     "output_type": "stream",
     "text": [
      "3 Best Features: ['Uniformity of Cell Size', 'Uniformity of Cell Shape', 'Bare Nuclei']\n"
     ]
    }
   ],
   "source": [
    "X = data.drop(data.columns[-1],axis=1)\n",
    "\n",
    "k = 3\n",
    "select = SelectKBest(chi2, k=k)\n",
    "X_new = select.fit_transform(X, data['Class'])\n",
    "col_names = [column[0] for column in zip(X.columns, select.get_support()) if column[1]]\n",
    "\n",
    "print(f\"{k} Best Features: {col_names}\")"
   ]
  },
  {
   "cell_type": "markdown",
   "metadata": {},
   "source": [
    "## D. Principal Component Analysis"
   ]
  },
  {
   "cell_type": "code",
   "execution_count": 7,
   "metadata": {},
   "outputs": [
    {
     "data": {
      "text/html": [
       "<div>\n",
       "<style scoped>\n",
       "    .dataframe tbody tr th:only-of-type {\n",
       "        vertical-align: middle;\n",
       "    }\n",
       "\n",
       "    .dataframe tbody tr th {\n",
       "        vertical-align: top;\n",
       "    }\n",
       "\n",
       "    .dataframe thead th {\n",
       "        text-align: right;\n",
       "    }\n",
       "</style>\n",
       "<table border=\"1\" class=\"dataframe\">\n",
       "  <thead>\n",
       "    <tr style=\"text-align: right;\">\n",
       "      <th></th>\n",
       "      <th>principal component 1</th>\n",
       "      <th>principal component 2</th>\n",
       "      <th>Class</th>\n",
       "    </tr>\n",
       "  </thead>\n",
       "  <tbody>\n",
       "    <tr>\n",
       "      <td>0</td>\n",
       "      <td>-3.606716</td>\n",
       "      <td>0.040710</td>\n",
       "      <td>2</td>\n",
       "    </tr>\n",
       "    <tr>\n",
       "      <td>1</td>\n",
       "      <td>5.687636</td>\n",
       "      <td>-4.736483</td>\n",
       "      <td>2</td>\n",
       "    </tr>\n",
       "    <tr>\n",
       "      <td>2</td>\n",
       "      <td>-3.746878</td>\n",
       "      <td>-0.573446</td>\n",
       "      <td>2</td>\n",
       "    </tr>\n",
       "    <tr>\n",
       "      <td>3</td>\n",
       "      <td>5.989962</td>\n",
       "      <td>4.352115</td>\n",
       "      <td>2</td>\n",
       "    </tr>\n",
       "    <tr>\n",
       "      <td>4</td>\n",
       "      <td>-3.246467</td>\n",
       "      <td>-0.213407</td>\n",
       "      <td>2</td>\n",
       "    </tr>\n",
       "    <tr>\n",
       "      <td>...</td>\n",
       "      <td>...</td>\n",
       "      <td>...</td>\n",
       "      <td>...</td>\n",
       "    </tr>\n",
       "    <tr>\n",
       "      <td>627</td>\n",
       "      <td>-4.145791</td>\n",
       "      <td>-0.606521</td>\n",
       "      <td>2</td>\n",
       "    </tr>\n",
       "    <tr>\n",
       "      <td>628</td>\n",
       "      <td>-5.122660</td>\n",
       "      <td>0.081041</td>\n",
       "      <td>2</td>\n",
       "    </tr>\n",
       "    <tr>\n",
       "      <td>629</td>\n",
       "      <td>10.876020</td>\n",
       "      <td>8.268970</td>\n",
       "      <td>4</td>\n",
       "    </tr>\n",
       "    <tr>\n",
       "      <td>630</td>\n",
       "      <td>7.328184</td>\n",
       "      <td>3.596791</td>\n",
       "      <td>4</td>\n",
       "    </tr>\n",
       "    <tr>\n",
       "      <td>631</td>\n",
       "      <td>8.377882</td>\n",
       "      <td>2.199098</td>\n",
       "      <td>4</td>\n",
       "    </tr>\n",
       "  </tbody>\n",
       "</table>\n",
       "<p>632 rows × 3 columns</p>\n",
       "</div>"
      ],
      "text/plain": [
       "     principal component 1  principal component 2  Class\n",
       "0                -3.606716               0.040710      2\n",
       "1                 5.687636              -4.736483      2\n",
       "2                -3.746878              -0.573446      2\n",
       "3                 5.989962               4.352115      2\n",
       "4                -3.246467              -0.213407      2\n",
       "..                     ...                    ...    ...\n",
       "627              -4.145791              -0.606521      2\n",
       "628              -5.122660               0.081041      2\n",
       "629              10.876020               8.268970      4\n",
       "630               7.328184               3.596791      4\n",
       "631               8.377882               2.199098      4\n",
       "\n",
       "[632 rows x 3 columns]"
      ]
     },
     "execution_count": 7,
     "metadata": {},
     "output_type": "execute_result"
    }
   ],
   "source": [
    "pca = PCA(n_components=2)\n",
    "principal_components = pca.fit_transform(X)\n",
    "principal_df = pd.DataFrame(data = principal_components, columns = ['principal component 1', 'principal component 2'])\n",
    "final_df = pd.concat([principal_df, data['Class']], axis=1)\n",
    "final_df"
   ]
  },
  {
   "cell_type": "code",
   "execution_count": 8,
   "metadata": {},
   "outputs": [
    {
     "data": {
      "image/png": "[encoded data removed]",
      "text/plain": [
       "<Figure size 576x576 with 1 Axes>"
      ]
     },
     "metadata": {
      "needs_background": "light"
     },
     "output_type": "display_data"
    }
   ],
   "source": [
    "fig = plt.figure(figsize = (8,8))\n",
    "ax = fig.add_subplot(1,1,1) \n",
    "ax.set_xlabel('Principal Component 1', fontsize = 10)\n",
    "ax.set_ylabel('Principal Component 2', fontsize = 10)\n",
    "ax.set_title('2 component PCA', fontsize = 15)\n",
    "targets = [2.0, 4.0]\n",
    "colors = ['r', 'b']\n",
    "for target, color in zip(targets,colors):\n",
    "    indices = final_df['Class'] == target\n",
    "    ax.scatter(final_df.loc[indices, 'principal component 1'], final_df.loc[indices, 'principal component 2'], c = color, s = 50)\n",
    "ax.legend(targets)\n",
    "ax.grid()"
   ]
  },
  {
   "cell_type": "markdown",
   "metadata": {},
   "source": [
    "## E. Training, Validation, Testing\n"
   ]
  },
  {
   "cell_type": "code",
   "execution_count": 22,
   "metadata": {},
   "outputs": [],
   "source": [
    "# standard dataset\n",
    "X_train, X_test, y_train, y_test = train_test_split(X, data['Class'], test_size=0.2, stratify=data['Class'])\n",
    "\n",
    "# pca dataset\n",
    "pca_X_train, pca_X_test, pca_y_train, pca_y_test = train_test_split(principal_df, final_df['Class'], test_size=0.2, stratify=final_df['Class'])\n",
    "\n",
    "# k best dataset\n",
    "best_X = X[col_names].copy()\n",
    "best_X_train, best_X_test, best_y_train, best_y_test = train_test_split(best_X, data['Class'], test_size=0.2, stratify=data['Class'])"
   ]
  },
  {
   "cell_type": "markdown",
   "metadata": {},
   "source": [
    "## F. ANN"
   ]
  },
  {
   "cell_type": "code",
   "execution_count": 23,
   "metadata": {},
   "outputs": [
    {
     "name": "stdout",
     "output_type": "stream",
     "text": [
      "[[86  3]\n",
      " [ 0 38]]\n",
      "              precision    recall  f1-score   support\n",
      "\n",
      "           2       1.00      0.97      0.98        89\n",
      "           4       0.93      1.00      0.96        38\n",
      "\n",
      "   micro avg       0.98      0.98      0.98       127\n",
      "   macro avg       0.96      0.98      0.97       127\n",
      "weighted avg       0.98      0.98      0.98       127\n",
      "\n"
     ]
    }
   ],
   "source": [
    "# with standard dataset\n",
    "\n",
    "scaler = StandardScaler()\n",
    "scaler.fit(X_train.astype(np.float))\n",
    "X_train = scaler.transform(X_train.astype(np.float))\n",
    "X_test = scaler.transform(X_test.astype(np.float))\n",
    "\n",
    "## nn with default activation: ReLU, default optimizer: Adam\n",
    "clf = MLPClassifier(hidden_layer_sizes=(20,20,20), max_iter=1000)\n",
    "\n",
    "clf.fit(X_train, y_train.values.ravel())\n",
    "\n",
    "predictions = clf.predict(X_test)\n",
    "print(confusion_matrix(y_test, predictions))\n",
    "print(classification_report(y_test, predictions))"
   ]
  },
  {
   "cell_type": "code",
   "execution_count": 24,
   "metadata": {},
   "outputs": [
    {
     "name": "stdout",
     "output_type": "stream",
     "text": [
      "[[88  1]\n",
      " [ 1 37]]\n",
      "              precision    recall  f1-score   support\n",
      "\n",
      "           2       0.99      0.99      0.99        89\n",
      "           4       0.97      0.97      0.97        38\n",
      "\n",
      "   micro avg       0.98      0.98      0.98       127\n",
      "   macro avg       0.98      0.98      0.98       127\n",
      "weighted avg       0.98      0.98      0.98       127\n",
      "\n"
     ]
    }
   ],
   "source": [
    "# with pca dataset\n",
    "scaler.fit(pca_X_train.astype(np.float))\n",
    "pca_X_train = scaler.transform(pca_X_train.astype(np.float))\n",
    "pca_X_test = scaler.transform(pca_X_test.astype(np.float))\n",
    "\n",
    "clf.fit(pca_X_train, pca_y_train.values.ravel())\n",
    "\n",
    "predictions = clf.predict(pca_X_test)\n",
    "\n",
    "print(confusion_matrix(pca_y_test, predictions))\n",
    "print(classification_report(pca_y_test, predictions))\n"
   ]
  },
  {
   "cell_type": "code",
   "execution_count": 25,
   "metadata": {},
   "outputs": [
    {
     "name": "stdout",
     "output_type": "stream",
     "text": [
      "[[83  6]\n",
      " [ 0 38]]\n",
      "              precision    recall  f1-score   support\n",
      "\n",
      "           2       1.00      0.93      0.97        89\n",
      "           4       0.86      1.00      0.93        38\n",
      "\n",
      "   micro avg       0.95      0.95      0.95       127\n",
      "   macro avg       0.93      0.97      0.95       127\n",
      "weighted avg       0.96      0.95      0.95       127\n",
      "\n"
     ]
    }
   ],
   "source": [
    "# with k best dataset\n",
    "\n",
    "scaler.fit(best_X_train.astype(np.float))\n",
    "best_X_train = scaler.transform(best_X_train.astype(np.float))\n",
    "best_X_test = scaler.transform(best_X_test.astype(np.float))\n",
    "\n",
    "clf.fit(best_X_train, best_y_train.values.ravel())\n",
    "\n",
    "predictions = clf.predict(best_X_test)\n",
    "\n",
    "print(confusion_matrix(best_y_test, predictions))\n",
    "print(classification_report(best_y_test, predictions))"
   ]
  },
  {
   "cell_type": "code",
   "execution_count": null,
   "metadata": {},
   "outputs": [],
   "source": []
  },
  {
   "cell_type": "code",
   "execution_count": null,
   "metadata": {},
   "outputs": [],
   "source": []
  }
 ],
 "metadata": {
  "kernelspec": {
   "display_name": "perceptron",
   "language": "python",
   "name": "perceptron"
  },
  "language_info": {
   "codemirror_mode": {
    "name": "ipython",
    "version": 3
   },
   "file_extension": ".py",
   "mimetype": "text/x-python",
   "name": "python",
   "nbconvert_exporter": "python",
   "pygments_lexer": "ipython3",
   "version": "3.7.3"
  }
 },
 "nbformat": 4,
 "nbformat_minor": 2
}
